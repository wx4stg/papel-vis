{
 "cells": [
  {
   "cell_type": "code",
   "execution_count": null,
   "metadata": {},
   "outputs": [],
   "source": [
    "from os import listdir\n",
    "import pyart\n",
    "from matplotlib import pyplot as plt\n",
    "from matplotlib import colors as pltcolors\n",
    "import matplotlib as mpl\n",
    "from cartopy import crs as ccrs\n",
    "from cartopy import feature as cfeat\n",
    "from metpy.plots import USCOUNTIES\n",
    "import xarray as xr\n",
    "import numpy as np\n",
    "from pyxlma.coords import RadarCoordinateSystem\n",
    "import pandas as pd\n",
    "from scipy import stats"
   ]
  },
  {
   "cell_type": "code",
   "execution_count": null,
   "metadata": {},
   "outputs": [],
   "source": [
    "files = sorted(listdir('rax'))\n",
    "fileds = ['rax/'+f for f in files if f.endswith('-D.nc')]\n",
    "fileps = ['rax/'+f for f in files if f.endswith('-P.nc')]\n",
    "filers = ['rax/'+f for f in files if f.endswith('-R.nc')]\n",
    "filevs = ['rax/'+f for f in files if f.endswith('-V.nc')]\n",
    "filews = ['rax/'+f for f in files if f.endswith('-W.nc')]\n",
    "filezs = ['rax/'+f for f in files if f.endswith('-Z.nc')]\n",
    "\n",
    "\n",
    "plasma = plt.cm.plasma_r(np.linspace(.05, .75, 50))\n",
    "viridis = plt.cm.viridis(np.linspace(0, 1, 950))\n",
    "plasmidis = pltcolors.LinearSegmentedColormap.from_list('plasmidis', np.vstack((viridis, plasma)))\n",
    "if 'plasmidis' in mpl.colormaps:\n",
    "    mpl.colormaps.unregister('plasmidis')\n",
    "mpl.colormaps.register(plasmidis, name='plasmidis')\n",
    "\n",
    "totalf = len(fileds)"
   ]
  },
  {
   "cell_type": "code",
   "execution_count": null,
   "metadata": {},
   "outputs": [],
   "source": [
    "for k in range(len(fileds)):\n",
    "    print(f'Processing {k+1}/{totalf}, {k+1/totalf*100:.2f}%')\n",
    "    d = xr.open_dataset(fileds[k])\n",
    "    p = xr.open_dataset(fileps[k])\n",
    "    p.PhiDP.data = np.ma.masked_array(p.PhiDP.data, p.PhiDP.data <= -99900.0)\n",
    "    p.PhiDP.data = np.rad2deg(p.PhiDP.data)\n",
    "    r = xr.open_dataset(filers[k])\n",
    "    v = xr.open_dataset(filevs[k])\n",
    "    w = xr.open_dataset(filews[k])\n",
    "    z = xr.open_dataset(filezs[k])\n",
    "\n",
    "    all_fields = [{\n",
    "        'varname' : 'Intensity',\n",
    "        'data' : z,\n",
    "        'label' : r'$Z$ dBZ',\n",
    "        'cmap' : 'pyart_ChaseSpectral',\n",
    "        'vmin' : -10,\n",
    "        'vmax' : 80    \n",
    "    }, {\n",
    "        'varname' : 'Radial_Velocity',\n",
    "        'data' : v,\n",
    "        'label' : r'$V_{r}$ m/s',\n",
    "        'cmap' : 'pyart_balance',\n",
    "        'vmin' : -v.attrs['Nyquist_Vel-value'],\n",
    "        'vmax' : v.attrs['Nyquist_Vel-value']\n",
    "    }, {\n",
    "        'varname' : 'Differential_Reflectivity',\n",
    "        'data' : d,\n",
    "        'label' : r'$Z_{DR}$ dB',\n",
    "        'cmap' : 'pyart_RefDiff',\n",
    "        'vmin' : -1,\n",
    "        'vmax' : 8\n",
    "    }, {\n",
    "        'varname' : 'RhoHV',\n",
    "        'data' : r,\n",
    "        'label' : r'$\\rho_{HV}$',\n",
    "        'cmap' : 'plasmidis',\n",
    "        'vmin' : 0,\n",
    "        'vmax' : 1\n",
    "    }, {\n",
    "        'varname' : 'Width',\n",
    "        'data' : w,\n",
    "        'label' : 'Spectrum Width m/s',\n",
    "        'cmap' : 'cubehelix',\n",
    "        'vmin' : 0,\n",
    "        'vmax' : 12.5\n",
    "    }, {\n",
    "        'varname' : 'PhiDP',\n",
    "        'data' : p,\n",
    "        'label' : r'$\\phi_{DP}$ deg',\n",
    "        'cmap' : 'pyart_Wild25',\n",
    "        'vmin' : -180,\n",
    "        'vmax' : 180\n",
    "    }]\n",
    "\n",
    "\n",
    "    px = 1/plt.rcParams['figure.dpi']\n",
    "    fig, axs = plt.subplots(3, 2, subplot_kw={'projection': ccrs.LambertConformal()})\n",
    "    idx = 0\n",
    "    for i in range(3):\n",
    "        for j in range(2):\n",
    "            ax = axs[i, j]\n",
    "            thisfield = all_fields[idx]\n",
    "            data = thisfield['data']\n",
    "            \n",
    "            t_start = np.array([data.Time]).astype('datetime64[s]')[0]\n",
    "            rng = np.matmul(data.Gate.data.reshape(-1, 1), data.GateWidth.data.reshape(1, -1))\n",
    "            az = np.tile(data.Azimuth.data, (rng.shape[0], 1))\n",
    "            el = np.tile(data.Elevation.data, (rng.shape[0], 1))\n",
    "            rcs = RadarCoordinateSystem(data.Latitude, data.Longitude, 0)\n",
    "            lon, lat, alt = rcs.toLonLatAlt(rng, az, el)\n",
    "            lon = np.array(lon).reshape(az.shape)\n",
    "            lat = np.array(lat).reshape(az.shape)\n",
    "            alt = np.array(alt).reshape(az.shape)\n",
    "\n",
    "\n",
    "            colorvar = np.ma.masked_array(data[thisfield['varname']].data, data[thisfield['varname']].data <= -99900.0).T\n",
    "\n",
    "            handle = ax.pcolormesh(lon, lat, colorvar, vmin=thisfield['vmin'], vmax=thisfield['vmax'], cmap=thisfield['cmap'], transform=ccrs.PlateCarree())\n",
    "            ax.add_feature(USCOUNTIES.with_scale('5m'), edgecolor='gray', linewidth=0.5)\n",
    "            fig.colorbar(handle, label=thisfield['label'])\n",
    "            idx = idx+1\n",
    "    time = pd.Timestamp(np.array([data.Time]).astype('datetime64[s]')[0]).to_pydatetime()\n",
    "    fig.suptitle(f'RaXPol PPI\\nAvg. Elevation={np.mean(el):.2f}\\n'+time.strftime('%d %b %Y %H:%M:%S UTC'))\n",
    "    fig.set_size_inches(1024*px, 1050*px)\n",
    "    fig.tight_layout()\n",
    "    fig.savefig(time.strftime('raxout/%Y%m%d_%H%M%S.png'))"
   ]
  },
  {
   "cell_type": "markdown",
   "metadata": {},
   "source": [
    "from datetime import datetime as dt\n",
    "import pandas as pd\n",
    "\n",
    "\n",
    "\n",
    "ref = np.ma.masked_array(data.Intensity.data, data.Intensity.data < -100)\n",
    "\n"
   ]
  },
  {
   "cell_type": "code",
   "execution_count": null,
   "metadata": {},
   "outputs": [],
   "source": [
    "fig = plt.figure()\n",
    "ax = plt.axes(projection=ccrs.LambertConformal())\n",
    "\n"
   ]
  },
  {
   "cell_type": "code",
   "execution_count": 20,
   "metadata": {},
   "outputs": [],
   "source": [
    "import xarray as xr\n",
    "import numpy as np\n",
    "p = xr.open_dataset('rax/RAXPOL-20230616-005620-E2.5-P.nc')"
   ]
  },
  {
   "cell_type": "code",
   "execution_count": 21,
   "metadata": {},
   "outputs": [
    {
     "data": {
      "text/plain": [
       "-3.1412072"
      ]
     },
     "execution_count": 21,
     "metadata": {},
     "output_type": "execute_result"
    }
   ],
   "source": [
    "p.PhiDP.data = np.ma.masked_array(p.PhiDP.data, p.PhiDP.data <= -100)\n",
    "# p.PhiDP.data = np.rad2deg(p.PhiDP.data)\n",
    "np.nanmin(p.PhiDP.data)"
   ]
  },
  {
   "cell_type": "code",
   "execution_count": null,
   "metadata": {},
   "outputs": [],
   "source": [
    "from datetime import datetime as dt\n",
    "import pandas as pd\n",
    "\n",
    "data = p\n",
    "\n",
    "t_start = np.array([data.Time]).astype('datetime64[s]')[0]\n",
    "range = np.matmul(data.Gate.data.reshape(-1, 1), data.GateWidth.data.reshape(1, -1))\n",
    "az = np.tile(data.Azimuth.data, (range.shape[0], 1))\n",
    "el = np.tile(data.Elevation.data, (range.shape[0], 1))\n",
    "phidp = np.ma.masked_array(data.PhiDP.data, data.PhiDP.data < -100)\n",
    "\n",
    "rcs = RadarCoordinateSystem(data.Latitude, data.Longitude, 0)\n",
    "lon, lat, alt = rcs.toLonLatAlt(range, az, el)\n",
    "lon = np.array(lon).reshape(az.shape)\n",
    "lat = np.array(lat).reshape(az.shape)\n",
    "alt = np.array(alt).reshape(az.shape)"
   ]
  },
  {
   "cell_type": "markdown",
   "metadata": {},
   "source": [
    "d is zdr (Differential_Reflectivity)\n",
    "\n",
    "p is phi (PhiDP)\n",
    "\n",
    "r is cc (RhoHV)\n",
    "\n",
    "v is velocity (Radial_Velocity)\n",
    "\n",
    "w is width (Width)\n",
    "\n",
    "z is reflectivity (Intensity)"
   ]
  },
  {
   "cell_type": "code",
   "execution_count": null,
   "metadata": {},
   "outputs": [],
   "source": [
    "fig = plt.figure()\n",
    "ax = plt.axes(projection=ccrs.LambertConformal())\n",
    "print(az.shape)\n",
    "print(range.shape)\n",
    "handle = ax.pcolormesh(lon, lat, ref.T, vmin=-10, vmax=80, cmap='pyart_ChaseSpectral', transform=ccrs.PlateCarree())\n",
    "ax.add_feature(USCOUNTIES.with_scale('5m'), edgecolor='gray', linewidth=0.5)\n",
    "fig.colorbar(handle)"
   ]
  },
  {
   "cell_type": "code",
   "execution_count": null,
   "metadata": {},
   "outputs": [],
   "source": [
    "v"
   ]
  },
  {
   "cell_type": "code",
   "execution_count": null,
   "metadata": {},
   "outputs": [],
   "source": [
    "v.attrs['Nyquist_Vel-value']"
   ]
  },
  {
   "cell_type": "code",
   "execution_count": null,
   "metadata": {},
   "outputs": [],
   "source": []
  }
 ],
 "metadata": {
  "kernelspec": {
   "display_name": "Python 3",
   "language": "python",
   "name": "python3"
  },
  "language_info": {
   "codemirror_mode": {
    "name": "ipython",
    "version": 3
   },
   "file_extension": ".py",
   "mimetype": "text/x-python",
   "name": "python",
   "nbconvert_exporter": "python",
   "pygments_lexer": "ipython3",
   "version": "3.12.0"
  }
 },
 "nbformat": 4,
 "nbformat_minor": 2
}
